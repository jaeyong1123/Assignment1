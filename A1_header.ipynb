{
 "cells": [
  {
   "cell_type": "markdown",
   "metadata": {
    "collapsed": true,
    "nbgrader": {
     "grade": false,
     "grade_id": "a1_header",
     "locked": true,
     "solution": false
    }
   },
   "source": [
    "# Assignment 1\n",
    "CSCI 1360: Foundations for Informatics and Analytics\n",
    "\n",
    "### Important Dates\n",
    "\n",
    " - Released: 2020-01-17 \n",
    " - Deadline: 2020-01-24 at 11:59 pm\n",
    "\n",
    "### Grading Breakdown\n",
    "- Q1: 30pts\n",
    "- Q2: 35pts\n",
    "- Q3: 35pts\n",
    "\n",
    "Total: 100pts\n",
    "\n",
    "- BONUS, Part A: 15pts\n",
    "- BONUS, Part B: 15pts\n",
    "\n",
    "### Overview\n",
    "This homework assignment is meant to reinforce the basics of Python that we've been going over in the last couple weeks: data types, data structures, and looping."
   ]
  }
 ],
 "metadata": {
  "celltoolbar": "Create Assignment",
  "kernelspec": {
   "display_name": "Python 3",
   "language": "python",
   "name": "python3"
  },
  "language_info": {
   "codemirror_mode": {
    "name": "ipython",
    "version": 3
   },
   "file_extension": ".py",
   "mimetype": "text/x-python",
   "name": "python",
   "nbconvert_exporter": "python",
   "pygments_lexer": "ipython3",
   "version": "3.7.4"
  }
 },
 "nbformat": 4,
 "nbformat_minor": 1
}
